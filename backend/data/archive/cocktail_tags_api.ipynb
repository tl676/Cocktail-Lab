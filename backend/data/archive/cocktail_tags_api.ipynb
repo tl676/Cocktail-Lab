{
 "cells": [
  {
   "cell_type": "markdown",
   "id": "71c07514",
   "metadata": {},
   "source": [
    "Cocktail API: www.thecocktaildb.com/api/json/v1/1/lookup.php?i=11007\n",
    "\n",
    "Coctail by name API: www.thecocktaildb.com/api/json/v1/1/search.php?s=margarita"
   ]
  },
  {
   "cell_type": "code",
   "execution_count": 67,
   "id": "edaabb41",
   "metadata": {},
   "outputs": [],
   "source": [
    "import requests\n",
    "import string\n",
    "import pandas as pd"
   ]
  },
  {
   "cell_type": "code",
   "execution_count": 68,
   "id": "d3e5f6b1",
   "metadata": {},
   "outputs": [],
   "source": [
    "tags = pd.DataFrame(columns=['drink','tags','IBA'])"
   ]
  },
  {
   "cell_type": "code",
   "execution_count": 71,
   "id": "4fce9885",
   "metadata": {},
   "outputs": [],
   "source": [
    "_dict = {}"
   ]
  },
  {
   "cell_type": "code",
   "execution_count": 69,
   "id": "2836deda",
   "metadata": {},
   "outputs": [
    {
     "name": "stdout",
     "output_type": "stream",
     "text": [
      "currently at a\n",
      "currently at b\n",
      "currently at c\n",
      "currently at d\n",
      "currently at e\n",
      "currently at f\n",
      "currently at g\n",
      "currently at h\n",
      "currently at i\n",
      "currently at j\n",
      "currently at k\n",
      "currently at l\n",
      "currently at m\n",
      "currently at n\n",
      "currently at o\n",
      "currently at p\n",
      "currently at q\n",
      "currently at r\n",
      "currently at s\n",
      "currently at t\n",
      "currently at v\n",
      "currently at w\n",
      "currently at y\n",
      "currently at z\n"
     ]
    }
   ],
   "source": [
    "for i in list(string.ascii_lowercase):\n",
    "    url = 'https://www.thecocktaildb.com/api/json/v1/1/search.php?f=' + f'{i}'\n",
    "    r = requests.get(url)\n",
    "    txt = r.json()['drinks']\n",
    "    if txt != None:\n",
    "        print(f'currently at {i}')\n",
    "        for drink in txt:\n",
    "            if drink['strTags'] != None or drink['strIBA'] !=None:\n",
    "                df = {'drink': drink['strDrink'], 'tags': drink['strTags'], 'IBA': drink['strIBA']}\n",
    "                tags = tags.append(df, ignore_index = True)\n",
    "            j=1\n",
    "            while drink[f'strIngredient{j}'] != null:\n",
    "                # finish adding ingredients"
   ]
  },
  {
   "cell_type": "code",
   "execution_count": 77,
   "id": "ef5aac7e",
   "metadata": {},
   "outputs": [],
   "source": [
    "tags.to_csv('cocktail_tags.csv')"
   ]
  },
  {
   "cell_type": "code",
   "execution_count": null,
   "id": "38e34e7e",
   "metadata": {},
   "outputs": [],
   "source": []
  }
 ],
 "metadata": {
  "kernelspec": {
   "display_name": "Python 3 (ipykernel)",
   "language": "python",
   "name": "python3"
  },
  "language_info": {
   "codemirror_mode": {
    "name": "ipython",
    "version": 3
   },
   "file_extension": ".py",
   "mimetype": "text/x-python",
   "name": "python",
   "nbconvert_exporter": "python",
   "pygments_lexer": "ipython3",
   "version": "3.9.7"
  }
 },
 "nbformat": 4,
 "nbformat_minor": 5
}
