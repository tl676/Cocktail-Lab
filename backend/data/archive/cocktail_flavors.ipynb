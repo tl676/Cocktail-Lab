{
 "cells": [
  {
   "cell_type": "code",
   "execution_count": 29,
   "id": "f0931a61",
   "metadata": {},
   "outputs": [],
   "source": [
    "import pandas as pd\n",
    "import numpy as np"
   ]
  },
  {
   "cell_type": "code",
   "execution_count": 30,
   "id": "4fb1d6b9",
   "metadata": {},
   "outputs": [],
   "source": [
    "flavors = pd.read_csv('flavors.csv')"
   ]
  },
  {
   "cell_type": "code",
   "execution_count": 31,
   "id": "5fe3813d",
   "metadata": {},
   "outputs": [],
   "source": [
    "flavors = flavors.dropna()\n",
    "flavors = flavors.rename(columns={\"celery\":\"ingredient\", \"vegetable\":\"flavor\"})"
   ]
  },
  {
   "cell_type": "code",
   "execution_count": 32,
   "id": "096bb516",
   "metadata": {},
   "outputs": [],
   "source": [
    "sweet = pd.DataFrame([['simple','sweet'],['agave','sweet'],['sugar','sweet'],['demerara','sweet'],['honey','sweet'],['maraschino','sweet'],[\"vanilla\",\"sweet\"]], columns=['ingredient','flavor'])\n",
    "bitter = pd.DataFrame([['bitter','bitter'],['bitters','bitter'],['amara','bitter'],['coffee','bitter'],['cacao','bitter'],['americano','bitter']], columns=['ingredient','flavor'])\n",
    "salty = pd.DataFrame([['salt','salty'],['tomato','salty'],['olive','salty'],['pickle','salty'],['cheese','salty']], columns=['ingredient','flavor'])\n",
    "herbaceous = pd.DataFrame([['mint','herbaceous'],['basil','herbaceous'],['thyme','herbaceous'],['pickle','salty'],['cheese','salty']], columns=['ingredient','flavor'])\n",
    "add = [sweet, bitter, salty, herbaceous]\n",
    "add_name = ['sweet', 'bitter', 'salty']"
   ]
  },
  {
   "cell_type": "code",
   "execution_count": 33,
   "id": "5a945ef2",
   "metadata": {},
   "outputs": [],
   "source": [
    "cocktail_flavors = ['floral','citrus','herbaceous','fruity']\n",
    "\n",
    "ingredient_flavors = pd.DataFrame()\n",
    "for f in cocktail_flavors:\n",
    "    ingredient_flavors = ingredient_flavors.append(flavors[flavors.flavor==f])"
   ]
  },
  {
   "cell_type": "code",
   "execution_count": 34,
   "id": "4e122151",
   "metadata": {},
   "outputs": [],
   "source": [
    "for i in add:\n",
    "    ingredient_flavors = ingredient_flavors.append(i, ignore_index=True)"
   ]
  },
  {
   "cell_type": "code",
   "execution_count": 35,
   "id": "d13c4b3f",
   "metadata": {},
   "outputs": [],
   "source": [
    "# creating dictionary of ingredients: flavors\n",
    "temp = ingredient_flavors.set_index(ingredient_flavors['ingredient']).drop(['ingredient'], axis=1)\n",
    "ingredients_dict = temp.to_dict()['flavor']"
   ]
  },
  {
   "cell_type": "code",
   "execution_count": 36,
   "id": "e5625610",
   "metadata": {},
   "outputs": [],
   "source": [
    "ingredients_dict = dict(sorted(ingredients_dict.items(), key=lambda item: item[1]))"
   ]
  },
  {
   "cell_type": "code",
   "execution_count": 37,
   "id": "87e192e5",
   "metadata": {},
   "outputs": [],
   "source": [
    "# list of flavors\n",
    "flavors_list = sorted(ingredient_flavors['flavor'].unique())\n",
    "n_flavors = len(flavors_list)"
   ]
  },
  {
   "cell_type": "code",
   "execution_count": 38,
   "id": "0ee12f00",
   "metadata": {},
   "outputs": [],
   "source": [
    "# cocktail csv\n",
    "cocktails_csv = pd.read_csv('cocktail_flavors_ingreds_combined_denumbered.csv')\n",
    "cocktails_csv['Ingredients'] = cocktails_csv['Ingredients'].apply(str.lower)"
   ]
  },
  {
   "cell_type": "code",
   "execution_count": 39,
   "id": "2615a90e",
   "metadata": {
    "scrolled": true
   },
   "outputs": [],
   "source": [
    "# mask of which cocktails have certain ingredients\n",
    "mask = [cocktails_csv['Ingredients'].str.lower().str.contains(ingr) for ingr in ingredients_dict.keys()]\n",
    "keys = list(ingredients_dict.keys())"
   ]
  },
  {
   "cell_type": "code",
   "execution_count": 40,
   "id": "7899a4a8",
   "metadata": {},
   "outputs": [
    {
     "data": {
      "text/plain": [
       "68"
      ]
     },
     "execution_count": 40,
     "metadata": {},
     "output_type": "execute_result"
    }
   ],
   "source": [
    "keys.index(\"vanilla\")"
   ]
  },
  {
   "cell_type": "code",
   "execution_count": 41,
   "id": "2675282d",
   "metadata": {},
   "outputs": [
    {
     "data": {
      "text/plain": [
       "'luxardo amaro abano, luxardo amaretto di saschira, espresso coffee, 1 scoop vanilla ice cream'"
      ]
     },
     "execution_count": 41,
     "metadata": {},
     "output_type": "execute_result"
    }
   ],
   "source": [
    "cocktails_csv['Ingredients'][546]"
   ]
  },
  {
   "cell_type": "code",
   "execution_count": 42,
   "id": "5f5845cd",
   "metadata": {},
   "outputs": [
    {
     "data": {
      "text/plain": [
       "True"
      ]
     },
     "execution_count": 42,
     "metadata": {},
     "output_type": "execute_result"
    }
   ],
   "source": [
    "mask[68][546]"
   ]
  },
  {
   "cell_type": "code",
   "execution_count": 43,
   "id": "a6361d7a",
   "metadata": {
    "scrolled": false
   },
   "outputs": [],
   "source": [
    "st = [0]\n",
    "end = []\n",
    "for k in range(len(keys)-1):\n",
    "    if ingredients_dict[keys[k]] != ingredients_dict[keys[k+1]]:\n",
    "        end += [k+1]\n",
    "        st += [k+1]\n",
    "end += [len(keys)]"
   ]
  },
  {
   "cell_type": "code",
   "execution_count": 44,
   "id": "9a465316",
   "metadata": {},
   "outputs": [
    {
     "data": {
      "text/plain": [
       "['bitter', 'citrus', 'floral', 'fruity', 'herbaceous', 'salty', 'sweet']"
      ]
     },
     "execution_count": 44,
     "metadata": {},
     "output_type": "execute_result"
    }
   ],
   "source": [
    "flavors_list"
   ]
  },
  {
   "cell_type": "code",
   "execution_count": 45,
   "id": "7dbf1a71",
   "metadata": {},
   "outputs": [
    {
     "data": {
      "text/plain": [
       "[6, 11, 25, 49, 57, 62, 69]"
      ]
     },
     "execution_count": 45,
     "metadata": {},
     "output_type": "execute_result"
    }
   ],
   "source": [
    "end"
   ]
  },
  {
   "cell_type": "code",
   "execution_count": 46,
   "id": "7653eb10",
   "metadata": {},
   "outputs": [
    {
     "data": {
      "text/plain": [
       "69"
      ]
     },
     "execution_count": 46,
     "metadata": {},
     "output_type": "execute_result"
    }
   ],
   "source": [
    "len(keys)"
   ]
  },
  {
   "cell_type": "code",
   "execution_count": 47,
   "id": "66035900",
   "metadata": {},
   "outputs": [
    {
     "name": "stdout",
     "output_type": "stream",
     "text": [
      "0.0\n",
      "True\n",
      "True\n"
     ]
    }
   ],
   "source": [
    "merged_mask = np.zeros((n_flavors,616))\n",
    "for i, s, e in zip(range(len(flavors_list)), st, end):\n",
    "    merged_mask[i] = mask[s] #initializing merge to the first mask \n",
    "    for j in range(s+1, e):\n",
    "        if j == 68:\n",
    "            print(merged_mask[i][546])\n",
    "            print(mask[j][546])\n",
    "            print(np.logical_or(merged_mask[i], mask[j])[546])\n",
    "        merged_mask[i] = np.logical_or(merged_mask[i], mask[j]) #logical or merged mask and mask to get combined "
   ]
  },
  {
   "cell_type": "code",
   "execution_count": 48,
   "id": "ab029ac6",
   "metadata": {
    "scrolled": true
   },
   "outputs": [],
   "source": [
    "df = cocktails_csv.copy()\n",
    "_map = {True:1, False:0}\n",
    "i, _ = merged_mask.shape\n",
    "for t in range(len(st)):\n",
    "    df[flavors_list[t]] = merged_mask[t]"
   ]
  },
  {
   "cell_type": "code",
   "execution_count": 49,
   "id": "c1487564",
   "metadata": {},
   "outputs": [],
   "source": [
    "def get_flavors(row):\n",
    "    flavors = []\n",
    "    for col in flavors_list:\n",
    "        if row[col] == 1:\n",
    "            flavors.append(col)\n",
    "    return ', '.join(flavors)\n",
    "\n",
    "df['flavors'] = df.apply(get_flavors, axis=1)"
   ]
  },
  {
   "cell_type": "code",
   "execution_count": 50,
   "id": "3116d6b1",
   "metadata": {},
   "outputs": [],
   "source": [
    "df = df.drop(['spicy'], axis=1)"
   ]
  },
  {
   "cell_type": "code",
   "execution_count": 51,
   "id": "feb80f7d",
   "metadata": {},
   "outputs": [
    {
     "data": {
      "text/html": [
       "<div>\n",
       "<style scoped>\n",
       "    .dataframe tbody tr th:only-of-type {\n",
       "        vertical-align: middle;\n",
       "    }\n",
       "\n",
       "    .dataframe tbody tr th {\n",
       "        vertical-align: top;\n",
       "    }\n",
       "\n",
       "    .dataframe thead th {\n",
       "        text-align: right;\n",
       "    }\n",
       "</style>\n",
       "<table border=\"1\" class=\"dataframe\">\n",
       "  <thead>\n",
       "    <tr style=\"text-align: right;\">\n",
       "      <th></th>\n",
       "      <th>Cocktail Name</th>\n",
       "      <th>Glass</th>\n",
       "      <th>strIBA</th>\n",
       "      <th>Ingredients</th>\n",
       "      <th>Instructions</th>\n",
       "      <th>floral</th>\n",
       "      <th>citrus</th>\n",
       "      <th>herbaceous</th>\n",
       "      <th>fruity</th>\n",
       "      <th>sweet</th>\n",
       "      <th>bitter</th>\n",
       "      <th>combined</th>\n",
       "      <th>flavors</th>\n",
       "      <th>salty</th>\n",
       "    </tr>\n",
       "  </thead>\n",
       "  <tbody>\n",
       "    <tr>\n",
       "      <th>344</th>\n",
       "      <td>Mojito</td>\n",
       "      <td>Highball glass</td>\n",
       "      <td>Contemporary Classics</td>\n",
       "      <td>light rum,lime,sugar,mint,soda water</td>\n",
       "      <td>Muddle mint leaves with sugar and lime juice. ...</td>\n",
       "      <td>0.0</td>\n",
       "      <td>1.0</td>\n",
       "      <td>1.0</td>\n",
       "      <td>0.0</td>\n",
       "      <td>1.0</td>\n",
       "      <td>0.0</td>\n",
       "      <td>light rum,lime,sugar,mint,soda water,citrus,sweet</td>\n",
       "      <td>citrus, herbaceous, sweet</td>\n",
       "      <td>0.0</td>\n",
       "    </tr>\n",
       "  </tbody>\n",
       "</table>\n",
       "</div>"
      ],
      "text/plain": [
       "    Cocktail Name           Glass                 strIBA  \\\n",
       "344        Mojito  Highball glass  Contemporary Classics   \n",
       "\n",
       "                              Ingredients  \\\n",
       "344  light rum,lime,sugar,mint,soda water   \n",
       "\n",
       "                                          Instructions  floral  citrus  \\\n",
       "344  Muddle mint leaves with sugar and lime juice. ...     0.0     1.0   \n",
       "\n",
       "     herbaceous  fruity  sweet  bitter  \\\n",
       "344         1.0     0.0    1.0     0.0   \n",
       "\n",
       "                                              combined  \\\n",
       "344  light rum,lime,sugar,mint,soda water,citrus,sweet   \n",
       "\n",
       "                       flavors  salty  \n",
       "344  citrus, herbaceous, sweet    0.0  "
      ]
     },
     "execution_count": 51,
     "metadata": {},
     "output_type": "execute_result"
    }
   ],
   "source": [
    "df.loc[df['Cocktail Name']=='Mojito']"
   ]
  },
  {
   "cell_type": "code",
   "execution_count": 52,
   "id": "53f3a977",
   "metadata": {},
   "outputs": [],
   "source": [
    "df.to_csv('updated_cocktail_flavors_ingreds_combined_denumbered.csv')"
   ]
  },
  {
   "cell_type": "code",
   "execution_count": null,
   "id": "d6415d19",
   "metadata": {},
   "outputs": [],
   "source": []
  }
 ],
 "metadata": {
  "kernelspec": {
   "display_name": "Python 3 (ipykernel)",
   "language": "python",
   "name": "python3"
  },
  "language_info": {
   "codemirror_mode": {
    "name": "ipython",
    "version": 3
   },
   "file_extension": ".py",
   "mimetype": "text/x-python",
   "name": "python",
   "nbconvert_exporter": "python",
   "pygments_lexer": "ipython3",
   "version": "3.9.7"
  }
 },
 "nbformat": 4,
 "nbformat_minor": 5
}
