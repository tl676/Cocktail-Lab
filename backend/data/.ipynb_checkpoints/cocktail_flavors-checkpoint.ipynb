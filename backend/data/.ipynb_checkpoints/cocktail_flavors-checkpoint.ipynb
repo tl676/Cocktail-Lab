{
 "cells": [
  {
   "cell_type": "code",
   "execution_count": 1,
   "id": "f0931a61",
   "metadata": {},
   "outputs": [],
   "source": [
    "import pandas as pd\n",
    "import numpy as np"
   ]
  },
  {
   "cell_type": "code",
   "execution_count": 2,
   "id": "4fb1d6b9",
   "metadata": {},
   "outputs": [],
   "source": [
    "flavors = pd.read_csv('flavors.csv')"
   ]
  },
  {
   "cell_type": "code",
   "execution_count": 3,
   "id": "5fe3813d",
   "metadata": {},
   "outputs": [],
   "source": [
    "flavors = flavors.dropna()\n",
    "flavors = flavors.rename(columns={\"celery\":\"ingredient\", \"vegetable\":\"flavor\"})"
   ]
  },
  {
   "cell_type": "code",
   "execution_count": 4,
   "id": "096bb516",
   "metadata": {},
   "outputs": [],
   "source": [
    "sweet = pd.DataFrame([['simple','sweet'],['agave','sweet'],['sugar','sweet'],['demerara','sweet'],['honey','sweet']], columns=['ingredient','flavor'])\n",
    "bitter = pd.DataFrame([['bitter','bitter'],['bitters','bitter'],['amara','bitter'],['coffee','bitter'],['cacao','bitter'],['americano','bitter']], columns=['ingredient','flavor'])\n",
    "salty = pd.DataFrame([['salt','salty'],['tomato','salty'],['olive','salty'],['pickle','salty'],['cheese','salty']], columns=['ingredient','flavor'])\n",
    "add = [sweet, bitter, salty]\n",
    "add_name = ['sweet', 'bitter', 'salty']"
   ]
  },
  {
   "cell_type": "code",
   "execution_count": 5,
   "id": "5a945ef2",
   "metadata": {},
   "outputs": [],
   "source": [
    "cocktail_flavors = ['floral','citrus','herbaceous','fruity','spicy']\n",
    "\n",
    "ingredient_flavors = pd.DataFrame()\n",
    "for f in cocktail_flavors:\n",
    "    ingredient_flavors = ingredient_flavors.append(flavors[flavors.flavor==f])"
   ]
  },
  {
   "cell_type": "code",
   "execution_count": 6,
   "id": "4e122151",
   "metadata": {},
   "outputs": [],
   "source": [
    "for i in add:\n",
    "    ingredient_flavors = ingredient_flavors.append(i, ignore_index=True)"
   ]
  },
  {
   "cell_type": "code",
   "execution_count": 7,
   "id": "d13c4b3f",
   "metadata": {},
   "outputs": [],
   "source": [
    "# creating dictionary of ingredients: flavors\n",
    "temp = ingredient_flavors.set_index(ingredient_flavors['ingredient']).drop(['ingredient'], axis=1)\n",
    "ingredients_dict = temp.to_dict()['flavor']"
   ]
  },
  {
   "cell_type": "code",
   "execution_count": 8,
   "id": "87e192e5",
   "metadata": {},
   "outputs": [],
   "source": [
    "# list of flavors\n",
    "flavors_list = ingredient_flavors['flavor'].unique()"
   ]
  },
  {
   "cell_type": "code",
   "execution_count": 9,
   "id": "0ee12f00",
   "metadata": {},
   "outputs": [],
   "source": [
    "# cocktail csv\n",
    "cocktails_csv = pd.read_csv('cocktails_ingredients.csv')\n",
    "cocktails_csv['Ingredients'] = cocktails_csv['Ingredients'].apply(str.lower)"
   ]
  },
  {
   "cell_type": "code",
   "execution_count": 10,
   "id": "2615a90e",
   "metadata": {
    "scrolled": true
   },
   "outputs": [],
   "source": [
    "# mask of which cocktails have certain ingredients\n",
    "mask = [cocktails_csv['Ingredients'].str.lower().str.contains(ing) for ing in ingredients_dict.keys()]\n",
    "keys = list(ingredients_dict.keys())"
   ]
  },
  {
   "cell_type": "code",
   "execution_count": 11,
   "id": "a6361d7a",
   "metadata": {
    "scrolled": false
   },
   "outputs": [
    {
     "name": "stdout",
     "output_type": "stream",
     "text": [
      "floral\n",
      "citrus\n",
      "citrus\n",
      "herbaceous\n",
      "herbaceous\n",
      "fruity\n",
      "fruity\n",
      "spicy\n",
      "spicy\n",
      "sweet\n",
      "sweet\n",
      "bitter\n",
      "bitter\n",
      "salty\n"
     ]
    }
   ],
   "source": [
    "st = [0]\n",
    "end = []\n",
    "for k in range(len(keys)-1):\n",
    "    if ingredients_dict[keys[k]] != ingredients_dict[keys[k+1]]:\n",
    "        end += [k+1]\n",
    "        st += [k+1]\n",
    "end += [63]"
   ]
  },
  {
   "cell_type": "code",
   "execution_count": 13,
   "id": "66035900",
   "metadata": {},
   "outputs": [],
   "source": [
    "merged_mask = np.zeros((8,616))\n",
    "for i, s, e in zip(range(len(flavors_list)), st, end):\n",
    "    merged_mask[i] = mask[s]\n",
    "    for j in range(s+1, e):\n",
    "        merged_mask[i] = np.logical_or(merged_mask[i], mask[j])"
   ]
  },
  {
   "cell_type": "code",
   "execution_count": 15,
   "id": "ab029ac6",
   "metadata": {
    "scrolled": true
   },
   "outputs": [],
   "source": [
    "df = cocktails_csv.copy()\n",
    "_map = {True:1, False:0}\n",
    "i, _ = merged_mask.shape\n",
    "for t in range(7):\n",
    "    df[flavors_list[t]] = merged_mask[t]"
   ]
  },
  {
   "cell_type": "code",
   "execution_count": 18,
   "id": "53f3a977",
   "metadata": {},
   "outputs": [],
   "source": [
    "df.to_csv('cocktail_flavors.csv')"
   ]
  },
  {
   "cell_type": "code",
   "execution_count": 26,
   "id": "63e29164",
   "metadata": {},
   "outputs": [
    {
     "data": {
      "text/plain": [
       "Cocktail Name                                         Peach Batida\n",
       "Glass                                                          NaN\n",
       "strIBA                                                         NaN\n",
       "Ingredients      3 oz peach juice, 1 1/2 oz condensed milk, 1 1...\n",
       "Instructions     Put 3 ounces of peach juice, 1 1/2 ounces of Y...\n",
       "floral                                                         0.0\n",
       "citrus                                                         0.0\n",
       "herbaceous                                                     0.0\n",
       "fruity                                                         1.0\n",
       "spicy                                                          0.0\n",
       "sweet                                                          1.0\n",
       "bitter                                                         0.0\n",
       "Name: 400, dtype: object"
      ]
     },
     "execution_count": 26,
     "metadata": {},
     "output_type": "execute_result"
    }
   ],
   "source": [
    "df.iloc[400]"
   ]
  }
 ],
 "metadata": {
  "kernelspec": {
   "display_name": "Python 3 (ipykernel)",
   "language": "python",
   "name": "python3"
  },
  "language_info": {
   "codemirror_mode": {
    "name": "ipython",
    "version": 3
   },
   "file_extension": ".py",
   "mimetype": "text/x-python",
   "name": "python",
   "nbconvert_exporter": "python",
   "pygments_lexer": "ipython3",
   "version": "3.9.7"
  }
 },
 "nbformat": 4,
 "nbformat_minor": 5
}
